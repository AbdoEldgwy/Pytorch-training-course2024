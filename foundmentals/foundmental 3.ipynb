{
 "cells": [
  {
   "cell_type": "markdown",
   "metadata": {},
   "source": [
    "### (transpose, stacking, squeezing, unsqueezing, permute)"
   ]
  },
  {
   "cell_type": "code",
   "execution_count": 1,
   "metadata": {},
   "outputs": [],
   "source": [
    "import torch\n",
    "import torch.nn as nn\n"
   ]
  },
  {
   "cell_type": "markdown",
   "metadata": {},
   "source": [
    "## Tensor Transpose"
   ]
  },
  {
   "cell_type": "code",
   "execution_count": 2,
   "metadata": {},
   "outputs": [
    {
     "name": "stdout",
     "output_type": "stream",
     "text": [
      "tensor([[0.8000, 0.5987, 0.2172],\n",
      "        [0.9040, 0.6076, 0.8586],\n",
      "        [0.9476, 0.6811, 0.6815],\n",
      "        [0.6464, 0.1212, 0.8527],\n",
      "        [0.2308, 0.6495, 0.7168]]) \n",
      "\n",
      "tensor([[0.8000, 0.9040, 0.9476, 0.6464, 0.2308],\n",
      "        [0.5987, 0.6076, 0.6811, 0.1212, 0.6495],\n",
      "        [0.2172, 0.8586, 0.6815, 0.8527, 0.7168]])\n",
      "\n",
      " tensor([[0.8000, 0.9040, 0.9476, 0.6464, 0.2308],\n",
      "        [0.5987, 0.6076, 0.6811, 0.1212, 0.6495],\n",
      "        [0.2172, 0.8586, 0.6815, 0.8527, 0.7168]])\n"
     ]
    }
   ],
   "source": [
    "x = torch.rand(5, 3)\n",
    "print(x,\"\\n\")\n",
    "\n",
    "# 1:\n",
    "transposed_tensor = x.transpose(0, 1)\n",
    "print(transposed_tensor)\n",
    "\n",
    "# 2:\n",
    "transposed_tensor = x.t()\n",
    "print(\"\\n\",transposed_tensor)"
   ]
  },
  {
   "cell_type": "code",
   "execution_count": 15,
   "metadata": {},
   "outputs": [
    {
     "data": {
      "text/plain": [
       "tensor([[0, 1, 2, 3, 4],\n",
       "        [5, 6, 7, 8, 9]])"
      ]
     },
     "execution_count": 15,
     "metadata": {},
     "output_type": "execute_result"
    }
   ],
   "source": [
    "tens = torch.arange(0, 10)\n",
    "tens.reshape(1,-1)\n"
   ]
  },
  {
   "cell_type": "markdown",
   "metadata": {},
   "source": [
    "# Stacking"
   ]
  },
  {
   "cell_type": "code",
   "execution_count": 20,
   "metadata": {},
   "outputs": [
    {
     "name": "stdout",
     "output_type": "stream",
     "text": [
      "tensor([[[0.8000, 0.5987, 0.2172],\n",
      "         [0.9040, 0.6076, 0.8586],\n",
      "         [0.9476, 0.6811, 0.6815],\n",
      "         [0.6464, 0.1212, 0.8527],\n",
      "         [0.2308, 0.6495, 0.7168]],\n",
      "\n",
      "        [[0.8000, 0.5987, 0.2172],\n",
      "         [0.9040, 0.6076, 0.8586],\n",
      "         [0.9476, 0.6811, 0.6815],\n",
      "         [0.6464, 0.1212, 0.8527],\n",
      "         [0.2308, 0.6495, 0.7168]]]) \n",
      "\n",
      "tensor([[[0.8000, 0.5987, 0.2172],\n",
      "         [0.8000, 0.5987, 0.2172]],\n",
      "\n",
      "        [[0.9040, 0.6076, 0.8586],\n",
      "         [0.9040, 0.6076, 0.8586]],\n",
      "\n",
      "        [[0.9476, 0.6811, 0.6815],\n",
      "         [0.9476, 0.6811, 0.6815]],\n",
      "\n",
      "        [[0.6464, 0.1212, 0.8527],\n",
      "         [0.6464, 0.1212, 0.8527]],\n",
      "\n",
      "        [[0.2308, 0.6495, 0.7168],\n",
      "         [0.2308, 0.6495, 0.7168]]]) \n",
      "\n"
     ]
    }
   ],
   "source": [
    "x_stacked = torch.stack([x, x], dim=0)\n",
    "print(x_stacked,\"\\n\")\n",
    "\n",
    "x_stacked = torch.stack([x, x], dim=1)\n",
    "print(x_stacked,\"\\n\")\n"
   ]
  },
  {
   "cell_type": "markdown",
   "metadata": {},
   "source": [
    "# Squeeze and Unsqueeze"
   ]
  },
  {
   "cell_type": "code",
   "execution_count": 21,
   "metadata": {},
   "outputs": [
    {
     "data": {
      "text/plain": [
       "tensor([[ 0,  1,  2,  3,  4],\n",
       "        [ 5,  6,  7,  8,  9],\n",
       "        [10, 11, 12, 13, 14],\n",
       "        [15, 16, 17, 18, 19]])"
      ]
     },
     "execution_count": 21,
     "metadata": {},
     "output_type": "execute_result"
    }
   ],
   "source": [
    "vector1 = torch.arange(0, 20)\n",
    "vector1.reshape(4, 5)"
   ]
  },
  {
   "cell_type": "code",
   "execution_count": 22,
   "metadata": {},
   "outputs": [
    {
     "name": "stdout",
     "output_type": "stream",
     "text": [
      "tensor([ 0,  1,  2,  3,  4,  5,  6,  7,  8,  9, 10, 11, 12, 13, 14, 15, 16, 17,\n",
      "        18, 19])\n",
      "torch.Size([20])\n"
     ]
    }
   ],
   "source": [
    "squeezed = torch.squeeze(vector1)\n",
    "print(squeezed)\n",
    "print(squeezed.shape)"
   ]
  },
  {
   "cell_type": "code",
   "execution_count": 27,
   "metadata": {},
   "outputs": [
    {
     "name": "stdout",
     "output_type": "stream",
     "text": [
      "torch.Size([1, 20])\n",
      "torch.Size([20, 1])\n",
      "torch.Size([1, 20])\n"
     ]
    }
   ],
   "source": [
    "unsqueezed = squeezed.unsqueeze(dim=0)\n",
    "print(unsqueezed.shape)\n",
    "\n",
    "unsqueezed = squeezed.unsqueeze(dim=1)\n",
    "print(unsqueezed.shape)\n",
    "\n",
    "unsqueezed = vector1.unsqueeze(dim=0)\n",
    "print(unsqueezed.shape)"
   ]
  },
  {
   "cell_type": "markdown",
   "metadata": {},
   "source": [
    "# Permute the dimensions of a tensor"
   ]
  },
  {
   "cell_type": "code",
   "execution_count": 31,
   "metadata": {},
   "outputs": [
    {
     "name": "stdout",
     "output_type": "stream",
     "text": [
      "torch.Size([224, 224, 3])\n",
      "torch.Size([3, 224, 224])\n"
     ]
    }
   ],
   "source": [
    "vec = torch.rand(224,224,3)\n",
    "print(vec.shape)\n",
    "vec_permuted = vec.permute(2,0,1)\n",
    "print(vec_permuted.shape)"
   ]
  },
  {
   "cell_type": "code",
   "execution_count": null,
   "metadata": {},
   "outputs": [],
   "source": []
  }
 ],
 "metadata": {
  "kernelspec": {
   "display_name": "Python 3",
   "language": "python",
   "name": "python3"
  },
  "language_info": {
   "codemirror_mode": {
    "name": "ipython",
    "version": 3
   },
   "file_extension": ".py",
   "mimetype": "text/x-python",
   "name": "python",
   "nbconvert_exporter": "python",
   "pygments_lexer": "ipython3",
   "version": "3.12.1"
  }
 },
 "nbformat": 4,
 "nbformat_minor": 2
}
