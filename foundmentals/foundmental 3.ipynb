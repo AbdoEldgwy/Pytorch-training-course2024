{
 "cells": [
  {
   "cell_type": "code",
   "execution_count": 1,
   "metadata": {},
   "outputs": [],
   "source": [
    "import torch\n",
    "import torch.nn as nn\n"
   ]
  },
  {
   "cell_type": "markdown",
   "metadata": {},
   "source": [
    "## Tensor Transpose"
   ]
  },
  {
   "cell_type": "code",
   "execution_count": 7,
   "metadata": {},
   "outputs": [
    {
     "name": "stdout",
     "output_type": "stream",
     "text": [
      "tensor([[0.4235, 0.0663, 0.8680],\n",
      "        [0.5117, 0.1961, 0.3378],\n",
      "        [0.9194, 0.3425, 0.4114],\n",
      "        [0.6146, 0.3478, 0.4494],\n",
      "        [0.5959, 0.4499, 0.2795]]) \n",
      "\n",
      "tensor([[0.4235, 0.5117, 0.9194, 0.6146, 0.5959],\n",
      "        [0.0663, 0.1961, 0.3425, 0.3478, 0.4499],\n",
      "        [0.8680, 0.3378, 0.4114, 0.4494, 0.2795]])\n",
      "\n",
      " tensor([[0.4235, 0.5117, 0.9194, 0.6146, 0.5959],\n",
      "        [0.0663, 0.1961, 0.3425, 0.3478, 0.4499],\n",
      "        [0.8680, 0.3378, 0.4114, 0.4494, 0.2795]])\n"
     ]
    }
   ],
   "source": [
    "x = torch.rand(5, 3)\n",
    "print(x,\"\\n\")\n",
    "\n",
    "# 1:\n",
    "transposed_tensor = x.transpose(0, 1)\n",
    "print(transposed_tensor)\n",
    "\n",
    "# 2:\n",
    "transposed_tensor = x.t()\n",
    "print(\"\\n\",transposed_tensor)"
   ]
  },
  {
   "cell_type": "code",
   "execution_count": null,
   "metadata": {},
   "outputs": [],
   "source": []
  }
 ],
 "metadata": {
  "kernelspec": {
   "display_name": "Python 3",
   "language": "python",
   "name": "python3"
  },
  "language_info": {
   "codemirror_mode": {
    "name": "ipython",
    "version": 3
   },
   "file_extension": ".py",
   "mimetype": "text/x-python",
   "name": "python",
   "nbconvert_exporter": "python",
   "pygments_lexer": "ipython3",
   "version": "3.12.1"
  }
 },
 "nbformat": 4,
 "nbformat_minor": 2
}
