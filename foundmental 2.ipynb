{
 "cells": [
  {
   "cell_type": "code",
   "execution_count": 3,
   "metadata": {},
   "outputs": [],
   "source": [
    "# tensor operations\n",
    "import torch\n",
    "\n",
    "\n",
    "\n"
   ]
  },
  {
   "cell_type": "code",
   "execution_count": 8,
   "metadata": {},
   "outputs": [
    {
     "name": "stdout",
     "output_type": "stream",
     "text": [
      "tensor([5, 7, 9])\n"
     ]
    }
   ],
   "source": [
    "# create tensors\n",
    "x = torch.tensor([1, 2, 3])\n",
    "y = torch.tensor([4, 5, 6])\n",
    "\n",
    "# element-wise addition\n",
    "z = x + y\n",
    "print(z)"
   ]
  },
  {
   "cell_type": "code",
   "execution_count": 5,
   "metadata": {},
   "outputs": [
    {
     "data": {
      "text/plain": [
       "tensor([3, 4, 5])"
      ]
     },
     "execution_count": 5,
     "metadata": {},
     "output_type": "execute_result"
    }
   ],
   "source": [
    "x + 2"
   ]
  },
  {
   "cell_type": "code",
   "execution_count": 4,
   "metadata": {},
   "outputs": [
    {
     "name": "stdout",
     "output_type": "stream",
     "text": [
      "tensor([ 4, 10, 18])\n",
      "tensor([0.2500, 0.4000, 0.5000])\n"
     ]
    }
   ],
   "source": [
    "# element-wise multiplication of two tensors\n",
    "z = x * y \n",
    "print(z)\n",
    "# element-wise division of two tensors\n",
    "z = x / y \n",
    "print(z)"
   ]
  },
  {
   "cell_type": "code",
   "execution_count": 13,
   "metadata": {},
   "outputs": [
    {
     "name": "stdout",
     "output_type": "stream",
     "text": [
      "tensor([3, 6, 9])\n",
      "tensor([ 4, 10, 18])\n"
     ]
    }
   ],
   "source": [
    "z = torch.mul(x, 3)  # [1,2,3] * 3 = [3,6,9]\n",
    "print(z)\n",
    "\n",
    "z = torch.mul(x, y)  # [1,2,3] * [4,5,6] = [4,10,18]\n",
    "print(z)\n",
    "\n",
    "# z = torch.mul(x, [1,2])  # [1,2,3] * [1,2] = error\n",
    "# print(z)"
   ]
  },
  {
   "cell_type": "markdown",
   "metadata": {},
   "source": [
    "### Dot Product"
   ]
  },
  {
   "cell_type": "code",
   "execution_count": 14,
   "metadata": {},
   "outputs": [
    {
     "name": "stdout",
     "output_type": "stream",
     "text": [
      "tensor(32)\n"
     ]
    }
   ],
   "source": [
    "z = torch.matmul(x, y) # [1,2,3] \n",
    "print(z)"
   ]
  },
  {
   "cell_type": "code",
   "execution_count": 15,
   "metadata": {},
   "outputs": [
    {
     "name": "stdout",
     "output_type": "stream",
     "text": [
      "tensor([[0.8627, 1.1691, 0.8586],\n",
      "        [1.1404, 0.9494, 1.0062],\n",
      "        [0.7843, 1.1645, 1.2830]])\n"
     ]
    }
   ],
   "source": [
    "x_tensor = torch.rand(3, 4)\n",
    "y_tensor = torch.rand(4,3)\n",
    "z_tensor = torch.matmul(x_tensor, y_tensor)\n",
    "print(z_tensor)"
   ]
  },
  {
   "cell_type": "markdown",
   "metadata": {},
   "source": [
    "### nn.Module"
   ]
  },
  {
   "cell_type": "code",
   "execution_count": 17,
   "metadata": {},
   "outputs": [],
   "source": [
    "from torch import nn"
   ]
  },
  {
   "cell_type": "code",
   "execution_count": 18,
   "metadata": {},
   "outputs": [
    {
     "name": "stdout",
     "output_type": "stream",
     "text": [
      "Linear(in_features=10, out_features=5, bias=True)\n"
     ]
    }
   ],
   "source": [
    "linear_layer = nn.Linear(in_features=10, out_features=5)\n",
    "print(linear_layer)"
   ]
  },
  {
   "cell_type": "code",
   "execution_count": 25,
   "metadata": {},
   "outputs": [
    {
     "name": "stdout",
     "output_type": "stream",
     "text": [
      "tensor([[0.2086, 0.6150, 0.1395, 0.4470, 0.9715, 0.3505, 0.6383, 0.9162, 0.4367,\n",
      "         0.2213],\n",
      "        [0.1426, 0.2580, 0.7302, 0.9146, 0.4341, 0.8564, 0.0193, 0.0448, 0.2698,\n",
      "         0.5216],\n",
      "        [0.0776, 0.9536, 0.0922, 0.4856, 0.2090, 0.2386, 0.1345, 0.6514, 0.2010,\n",
      "         0.0108],\n",
      "        [0.8446, 0.4304, 0.3484, 0.0318, 0.2254, 0.0987, 0.1848, 0.4165, 0.3419,\n",
      "         0.9037],\n",
      "        [0.5689, 0.0396, 0.9721, 0.4081, 0.6629, 0.2503, 0.6992, 0.3227, 0.8606,\n",
      "         0.8632]])\n"
     ]
    }
   ],
   "source": [
    "tensor_l = torch.rand(size=(5,10))\n",
    "print(tensor_l)"
   ]
  },
  {
   "cell_type": "code",
   "execution_count": 28,
   "metadata": {},
   "outputs": [
    {
     "data": {
      "text/plain": [
       "tensor([[ 0.2043, -0.5393, -0.1496, -0.2216,  0.0889],\n",
       "        [ 0.2827, -0.1430, -0.1188, -0.1786, -0.2571],\n",
       "        [ 0.0730, -0.5332,  0.0623, -0.2023, -0.2360],\n",
       "        [ 0.2599, -0.5148,  0.2512,  0.0108,  0.1413],\n",
       "        [ 0.1726, -0.1691, -0.1729, -0.2580,  0.0770]],\n",
       "       grad_fn=<AddmmBackward0>)"
      ]
     },
     "execution_count": 28,
     "metadata": {},
     "output_type": "execute_result"
    }
   ],
   "source": [
    "x = linear_layer(tensor_l)\n",
    "x"
   ]
  },
  {
   "cell_type": "code",
   "execution_count": 29,
   "metadata": {},
   "outputs": [
    {
     "name": "stdout",
     "output_type": "stream",
     "text": [
      "tensor([1, 2, 3, 4, 5])\n"
     ]
    }
   ],
   "source": [
    "v = torch.arange(1, 6)\n",
    "print(v)"
   ]
  },
  {
   "cell_type": "code",
   "execution_count": 34,
   "metadata": {},
   "outputs": [
    {
     "name": "stdout",
     "output_type": "stream",
     "text": [
      "min:  tensor(1)\n",
      "max:  tensor(5)\n",
      "mean:  tensor(3., dtype=torch.float64)\n",
      "std:  tensor(1.5811, dtype=torch.float64)\n"
     ]
    }
   ],
   "source": [
    "print(\"min: \",v.min())\n",
    "print(\"max: \",v.max())\n",
    "print(\"mean: \",v.double().mean())\n",
    "print(\"std: \",v.double().std())"
   ]
  },
  {
   "cell_type": "code",
   "execution_count": 39,
   "metadata": {},
   "outputs": [
    {
     "name": "stdout",
     "output_type": "stream",
     "text": [
      "max_index tensor(4)\n",
      "max_index tensor(0)\n"
     ]
    }
   ],
   "source": [
    "max_index = v.argmax()\n",
    "print(\"max_index\",max_index)\n",
    "\n",
    "min_index = v.argmin()\n",
    "print(\"max_index\",min_index)"
   ]
  },
  {
   "cell_type": "markdown",
   "metadata": {},
   "source": [
    "### Floating cast"
   ]
  },
  {
   "cell_type": "code",
   "execution_count": 51,
   "metadata": {},
   "outputs": [
    {
     "name": "stdout",
     "output_type": "stream",
     "text": [
      "tensor([0., 1., 2., 3., 4., 5., 6., 7., 8., 9.])\n",
      "torch.float32\n",
      "<class 'torch.Tensor'> \n",
      "\n",
      "tensor([0., 1., 2., 3., 4., 5., 6., 7., 8., 9.])\n",
      "torch.float32\n",
      "<class 'torch.Tensor'> \n",
      "\n",
      "tensor([0., 1., 2., 3., 4., 5., 6., 7., 8., 9.], dtype=torch.float64)\n",
      "torch.float32\n",
      "<class 'torch.Tensor'> \n",
      "\n"
     ]
    },
    {
     "ename": "TypeError",
     "evalue": "'torch.dtype' object is not callable",
     "output_type": "error",
     "traceback": [
      "\u001b[1;31m---------------------------------------------------------------------------\u001b[0m",
      "\u001b[1;31mTypeError\u001b[0m                                 Traceback (most recent call last)",
      "Cell \u001b[1;32mIn[51], line 19\u001b[0m\n\u001b[0;32m     16\u001b[0m \u001b[38;5;28mprint\u001b[39m(\u001b[38;5;28mtype\u001b[39m(float_vec\u001b[38;5;241m.\u001b[39mdouble()),\u001b[38;5;124m\"\u001b[39m\u001b[38;5;130;01m\\n\u001b[39;00m\u001b[38;5;124m\"\u001b[39m)\n\u001b[0;32m     18\u001b[0m \u001b[38;5;66;03m# 4\u001b[39;00m\n\u001b[1;32m---> 19\u001b[0m float_vec \u001b[38;5;241m=\u001b[39m \u001b[43mfloat_vec\u001b[49m\u001b[38;5;241;43m.\u001b[39;49m\u001b[43mdtype\u001b[49m\u001b[43m(\u001b[49m\u001b[43mtorch\u001b[49m\u001b[38;5;241;43m.\u001b[39;49m\u001b[43mfloat64\u001b[49m\u001b[43m)\u001b[49m\n\u001b[0;32m     20\u001b[0m \u001b[38;5;28mprint\u001b[39m(float_vec)\n\u001b[0;32m     21\u001b[0m \u001b[38;5;28mprint\u001b[39m(\u001b[38;5;28mtype\u001b[39m(float_vec),\u001b[38;5;124m\"\u001b[39m\u001b[38;5;130;01m\\n\u001b[39;00m\u001b[38;5;124m\"\u001b[39m)\n",
      "\u001b[1;31mTypeError\u001b[0m: 'torch.dtype' object is not callable"
     ]
    }
   ],
   "source": [
    "# 1\n",
    "float_vec = torch.arange(0, 10, 1.)\n",
    "print(float_vec)\n",
    "print(float_vec.dtype)\n",
    "print(type(float_vec),\"\\n\")\n",
    "\n",
    "# 2\n",
    "float_vec = float_vec.to(torch.float32)\n",
    "print(float_vec)\n",
    "print(float_vec.dtype)\n",
    "print(type(float_vec),\"\\n\")\n",
    "\n",
    "# 3\n",
    "print(float_vec.double())\n",
    "print(float_vec.dtype)\n",
    "print(type(float_vec.double()),\"\\n\")\n",
    "\n",
    "\n",
    "# 4\n",
    "      ## This will give an error\n",
    "\n",
    "# float_vec = float_vec.dtype(torch.float64)\n",
    "# print(float_vec)\n",
    "# print(float_vec.dtype)\n",
    "# print(type(float_vec),\"\\n\")"
   ]
  },
  {
   "cell_type": "code",
   "execution_count": null,
   "metadata": {},
   "outputs": [],
   "source": []
  }
 ],
 "metadata": {
  "kernelspec": {
   "display_name": "Python 3",
   "language": "python",
   "name": "python3"
  },
  "language_info": {
   "codemirror_mode": {
    "name": "ipython",
    "version": 3
   },
   "file_extension": ".py",
   "mimetype": "text/x-python",
   "name": "python",
   "nbconvert_exporter": "python",
   "pygments_lexer": "ipython3",
   "version": "3.12.1"
  }
 },
 "nbformat": 4,
 "nbformat_minor": 2
}
